{
 "cells": [
  {
   "cell_type": "markdown",
   "id": "ac954da2",
   "metadata": {},
   "source": [
    "# class & __init__"
   ]
  },
  {
   "cell_type": "code",
   "execution_count": 11,
   "id": "d56b929d",
   "metadata": {},
   "outputs": [],
   "source": [
    "# make a class\n",
    "class Patient:\n",
    "    def __init__(self, height, weight):\n",
    "        self.height = height\n",
    "        self.weight = weight\n",
    "    \n",
    "    def fat_or_not(self):\n",
    "        if self.weight / self.height > 1:\n",
    "            return \"yeah! you are fat!\"\n",
    "        else:\n",
    "            return \"Not fat at all!\""
   ]
  },
  {
   "cell_type": "code",
   "execution_count": 12,
   "id": "4363c707",
   "metadata": {},
   "outputs": [],
   "source": [
    "# __int__ function help us automaticly create a object\n",
    "patient1 = Patient(150,100)"
   ]
  },
  {
   "cell_type": "code",
   "execution_count": 13,
   "id": "e93b38ed",
   "metadata": {},
   "outputs": [
    {
     "data": {
      "text/plain": [
       "'Not fat at all!'"
      ]
     },
     "execution_count": 13,
     "metadata": {},
     "output_type": "execute_result"
    }
   ],
   "source": [
    "patient1.fat_or_not()"
   ]
  },
  {
   "cell_type": "code",
   "execution_count": null,
   "id": "46417e07",
   "metadata": {},
   "outputs": [],
   "source": []
  },
  {
   "cell_type": "markdown",
   "id": "409afd7d",
   "metadata": {},
   "source": [
    "# super()"
   ]
  },
  {
   "cell_type": "code",
   "execution_count": 1,
   "id": "f03bf2ed",
   "metadata": {},
   "outputs": [],
   "source": [
    "# basic version\n",
    "class Rectangle:\n",
    "    pass\n",
    "\n",
    "class Square(Rectangle):\n",
    "    \n",
    "    def __init__(self, height, width):\n",
    "        self.height = height\n",
    "        self.width = width\n",
    "    \n",
    "class Cube(Rectangle):\n",
    "    \n",
    "    def __init__(self, height, width, length):\n",
    "        self.width = width\n",
    "        self.height = height\n",
    "        self.length = length\n",
    "        \n",
    "square = Square(3,3)\n",
    "cube = Cube(3,3,3)"
   ]
  },
  {
   "cell_type": "markdown",
   "id": "60af83c0",
   "metadata": {},
   "source": [
    "# Suqare(Rectangle) means Rectangle is the mother class of Square. \n",
    "# Super() allows us to go back to Rectangle class \n",
    "# means: def __init__(self, height, width): \n",
    "#        self.height = height \n",
    "#        self.width = width \n",
    "# ====\n",
    "# super().__init__(height,width) *****super() 是不用self的！！！"
   ]
  },
  {
   "cell_type": "code",
   "execution_count": 7,
   "id": "9ffcdf10",
   "metadata": {},
   "outputs": [],
   "source": [
    "# super() version\n",
    "class Rectangle:\n",
    "    \n",
    "    def __init__(self, height, width):\n",
    "        self.height = height\n",
    "        self.width = width\n",
    "\n",
    "        \n",
    "class Square(Rectangle):\n",
    "    \n",
    "    def __init__(self,height,width):\n",
    "        super().__init__(height,width)\n",
    "        \n",
    "    def area(self):\n",
    "        return self.height*self.width\n",
    "   \n",
    "\n",
    "class Cube(Rectangle):\n",
    "    \n",
    "    def __init__(self, height, width, length):\n",
    "        super().__init__(height,width)\n",
    "        self.length = length\n",
    "        \n",
    "    def volume(self):\n",
    "        return self.height*self.width*self.length\n",
    "    \n",
    "    \n",
    "square = Square(3,3)\n",
    "cube = Cube(3,3,3)"
   ]
  },
  {
   "cell_type": "code",
   "execution_count": 8,
   "id": "404a4529",
   "metadata": {},
   "outputs": [
    {
     "name": "stdout",
     "output_type": "stream",
     "text": [
      "9\n"
     ]
    }
   ],
   "source": [
    "print(square.area())"
   ]
  },
  {
   "cell_type": "code",
   "execution_count": 10,
   "id": "6fad11de",
   "metadata": {},
   "outputs": [
    {
     "name": "stdout",
     "output_type": "stream",
     "text": [
      "27\n"
     ]
    }
   ],
   "source": [
    "print(cube.volume())"
   ]
  },
  {
   "cell_type": "code",
   "execution_count": null,
   "id": "31533d98",
   "metadata": {},
   "outputs": [],
   "source": []
  }
 ],
 "metadata": {
  "kernelspec": {
   "display_name": "Python 3 (ipykernel)",
   "language": "python",
   "name": "python3"
  },
  "language_info": {
   "codemirror_mode": {
    "name": "ipython",
    "version": 3
   },
   "file_extension": ".py",
   "mimetype": "text/x-python",
   "name": "python",
   "nbconvert_exporter": "python",
   "pygments_lexer": "ipython3",
   "version": "3.9.13"
  }
 },
 "nbformat": 4,
 "nbformat_minor": 5
}
