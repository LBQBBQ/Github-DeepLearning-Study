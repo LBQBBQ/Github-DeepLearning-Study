{
 "cells": [
  {
   "cell_type": "code",
   "execution_count": 7,
   "id": "3af43773",
   "metadata": {},
   "outputs": [],
   "source": [
    "%run quiz-game-start/main.py\n",
    "%run quiz-game-start/question_model.py\n",
    "%run quiz-game-start/data.py"
   ]
  },
  {
   "cell_type": "code",
   "execution_count": 5,
   "id": "2a94a30f",
   "metadata": {},
   "outputs": [],
   "source": [
    "class Question:\n",
    "    def __init__(self, q_text, q_answer):\n",
    "        self.text = q_text\n",
    "        self.answer = q_answer"
   ]
  },
  {
   "cell_type": "code",
   "execution_count": 6,
   "id": "4dade8d5",
   "metadata": {},
   "outputs": [
    {
     "name": "stdout",
     "output_type": "stream",
     "text": [
      "asf\n"
     ]
    }
   ],
   "source": [
    "new_q = Question(\"asf\",\"False\")\n",
    "print(new_q.text)"
   ]
  },
  {
   "cell_type": "code",
   "execution_count": 11,
   "id": "dc7efed8",
   "metadata": {},
   "outputs": [
    {
     "data": {
      "text/plain": [
       "[{'text': \"A slug's blood is green.\", 'answer': 'True'},\n",
       " {'text': 'The loudest animal is the African Elephant.', 'answer': 'False'},\n",
       " {'text': 'Approximately one quarter of human bones are in the feet.',\n",
       "  'answer': 'True'},\n",
       " {'text': 'The total surface area of a human lungs is the size of a football pitch.',\n",
       "  'answer': 'True'},\n",
       " {'text': 'In West Virginia, USA, if you accidentally hit an animal with your car, you are free to take it home to eat.',\n",
       "  'answer': 'True'},\n",
       " {'text': 'In London, UK, if you happen to die in the House of Parliament, you are entitled to a state funeral.',\n",
       "  'answer': 'False'},\n",
       " {'text': 'It is illegal to pee in the Ocean in Portugal.', 'answer': 'True'},\n",
       " {'text': 'You can lead a cow down stairs but not up stairs.',\n",
       "  'answer': 'False'},\n",
       " {'text': \"Google was originally called 'Backrub'.\", 'answer': 'True'},\n",
       " {'text': \"Buzz Aldrin's mother's maiden name was 'Moon'.\", 'answer': 'True'},\n",
       " {'text': 'No piece of square dry paper can be folded in half more than 7 times.',\n",
       "  'answer': 'False'},\n",
       " {'text': 'A few ounces of chocolate can to kill a small dog.',\n",
       "  'answer': 'True'}]"
      ]
     },
     "execution_count": 11,
     "metadata": {},
     "output_type": "execute_result"
    }
   ],
   "source": [
    "# get from data.py\n",
    "question_data"
   ]
  },
  {
   "cell_type": "code",
   "execution_count": null,
   "id": "805c5674",
   "metadata": {},
   "outputs": [],
   "source": []
  }
 ],
 "metadata": {
  "kernelspec": {
   "display_name": "Python 3 (ipykernel)",
   "language": "python",
   "name": "python3"
  },
  "language_info": {
   "codemirror_mode": {
    "name": "ipython",
    "version": 3
   },
   "file_extension": ".py",
   "mimetype": "text/x-python",
   "name": "python",
   "nbconvert_exporter": "python",
   "pygments_lexer": "ipython3",
   "version": "3.9.12"
  }
 },
 "nbformat": 4,
 "nbformat_minor": 5
}
