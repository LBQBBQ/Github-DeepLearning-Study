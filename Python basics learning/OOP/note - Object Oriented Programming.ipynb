{
 "cells": [
  {
   "cell_type": "markdown",
   "id": "c727c874",
   "metadata": {},
   "source": [
    "## Object Oriented Programming means we can split a large logic task to small pieces \n",
    "@example: you are a manager of a cafe and lead waitress, chef and cleaner\n",
    "\n",
    "@easy way to understand object attribute and method: For a car(which is a object create by CarBlueprint), what it has is a attribute: eg. car has speed=0, fuel=32 --> car.speed = 0; what he does is method: eg. car.move()\n",
    "\n",
    "@easy way to distinct class and object: a blueprint of the Car is class. Under this Car blueprint we create two car1 which is car2 and ford they are both objects ----> car1 = CarBlueprint"
   ]
  },
  {
   "cell_type": "markdown",
   "id": "36f182f2",
   "metadata": {},
   "source": [
    "## Part 1: Get familiar with the element: object, class, attribute, method"
   ]
  },
  {
   "cell_type": "markdown",
   "id": "83214c1a",
   "metadata": {},
   "source": [
    "#### Example of car and CarBlueprint"
   ]
  },
  {
   "cell_type": "code",
   "execution_count": 13,
   "id": "bea131fa",
   "metadata": {},
   "outputs": [],
   "source": [
    "class CarBlueprint:\n",
    "    def __init__(self,speed,fuel):\n",
    "        self.speed=speed\n",
    "        self.fuel=fuel\n",
    "        \n",
    "    def move():\n",
    "        speed = 60\n",
    "        \n",
    "    def stop():\n",
    "        speed = 0"
   ]
  },
  {
   "cell_type": "code",
   "execution_count": 14,
   "id": "864f4e00",
   "metadata": {},
   "outputs": [],
   "source": [
    "car1 = CarBlueprint(10,30)\n",
    "car2 = CarBlueprint(2,10)"
   ]
  },
  {
   "cell_type": "code",
   "execution_count": 15,
   "id": "3aa2ae60",
   "metadata": {},
   "outputs": [
    {
     "name": "stdout",
     "output_type": "stream",
     "text": [
      "10\n",
      "30\n"
     ]
    }
   ],
   "source": [
    "print(car1.speed)\n",
    "print(car1.fuel)"
   ]
  },
  {
   "cell_type": "markdown",
   "id": "3194e80e",
   "metadata": {},
   "source": [
    "### coffee project: help you understand the all basic element in OOP"
   ]
  },
  {
   "cell_type": "code",
   "execution_count": 63,
   "id": "2bcc07eb",
   "metadata": {},
   "outputs": [],
   "source": [
    "%run oop-coffee-machine-start/main.py"
   ]
  },
  {
   "cell_type": "code",
   "execution_count": 64,
   "id": "dfcb6fa3",
   "metadata": {},
   "outputs": [],
   "source": [
    "from menu import Menu, MenuItem\n",
    "from coffee_maker import CoffeeMaker\n",
    "from money_machine import MoneyMachine"
   ]
  },
  {
   "cell_type": "code",
   "execution_count": 65,
   "id": "c3c77f88",
   "metadata": {},
   "outputs": [],
   "source": [
    "money_machine = MoneyMachine()\n",
    "coffee_maker = CoffeeMaker()\n",
    "menu = Menu()\n",
    "is_on = True"
   ]
  },
  {
   "cell_type": "code",
   "execution_count": 66,
   "id": "8d57ec83",
   "metadata": {},
   "outputs": [
    {
     "name": "stdout",
     "output_type": "stream",
     "text": [
      "Money: $0\n"
     ]
    }
   ],
   "source": [
    "# current amount of money is $0\n",
    "money_machine.report()"
   ]
  },
  {
   "cell_type": "code",
   "execution_count": 67,
   "id": "6ac56c43",
   "metadata": {},
   "outputs": [
    {
     "name": "stdout",
     "output_type": "stream",
     "text": [
      "Water: 300ml\n",
      "Milk: 200ml\n",
      "Coffee: 100g\n"
     ]
    }
   ],
   "source": [
    "# current coffee maker left\n",
    "coffee_maker.report()"
   ]
  },
  {
   "cell_type": "code",
   "execution_count": 68,
   "id": "f259cdee",
   "metadata": {},
   "outputs": [
    {
     "name": "stdout",
     "output_type": "stream",
     "text": [
      "What would you like?(latte/espresso/cappuccino/):report\n",
      "Water: 300ml\n",
      "Milk: 200ml\n",
      "Coffee: 100g\n",
      "Money: $0\n",
      "What would you like?(latte/espresso/cappuccino/):espresso\n",
      "Please insert coins.\n",
      "How many quarters?: 12\n",
      "How many dimes?: 12\n",
      "How many nickles?: 12\n",
      "How many pennies?: 12\n",
      "Here is $3.42 in change.\n",
      "Here is your espresso ☕️. Enjoy!\n",
      "What would you like?(latte/espresso/cappuccino/):latte\n",
      "Please insert coins.\n",
      "How many quarters?: 12\n",
      "How many dimes?: 12\n",
      "How many nickles?: 12\n",
      "How many pennies?: 12\n",
      "Here is $2.42 in change.\n",
      "Here is your latte ☕️. Enjoy!\n",
      "What would you like?(latte/espresso/cappuccino/):report\n",
      "Water: 50ml\n",
      "Milk: 50ml\n",
      "Coffee: 58g\n",
      "Money: $4.0\n",
      "What would you like?(latte/espresso/cappuccino/):off\n"
     ]
    }
   ],
   "source": [
    "while is_on:\n",
    "    options = menu.get_items()\n",
    "    choice = input(f\"What would you like?({options}):\")\n",
    "    if choice == \"off\":\n",
    "        is_on = False\n",
    "    elif choice == \"report\":\n",
    "        coffee_maker.report()\n",
    "        money_machine.report()\n",
    "    else:\n",
    "        drink = menu.find_drink(choice)\n",
    "        if coffee_maker.is_resource_sufficient(drink):\n",
    "            if money_machine.make_payment(drink.cost):\n",
    "                coffee_maker.make_coffee(drink)"
   ]
  },
  {
   "cell_type": "markdown",
   "id": "0f4f7c2f",
   "metadata": {},
   "source": [
    "## Part 2 : Creating your own classes"
   ]
  },
  {
   "cell_type": "code",
   "execution_count": 72,
   "id": "d6e47bc9",
   "metadata": {},
   "outputs": [
    {
     "name": "stdout",
     "output_type": "stream",
     "text": [
      "LBQ\n"
     ]
    }
   ],
   "source": [
    "class UserSB:\n",
    "    pass\n",
    "    \n",
    "user_1 = UserSB()\n",
    "# you add any customize attribute to the object you create!! \n",
    "user_1.id = \"001\"\n",
    "user_1.username = \"LBQ\"\n",
    "\n",
    "print(user_1.username)"
   ]
  },
  {
   "cell_type": "code",
   "execution_count": 74,
   "id": "4fcb5cdc",
   "metadata": {},
   "outputs": [],
   "source": [
    "user_2 = UserSB()\n",
    "user_2.id = \"002\"\n",
    "user_2.username = \"Boqian\""
   ]
  },
  {
   "cell_type": "markdown",
   "id": "ce053398",
   "metadata": {},
   "source": [
    "### It is too SB to create any objects by create each attribute every time. Therefore, we use init. init really help us when we need to create a lot of objects which have same attributes. "
   ]
  },
  {
   "cell_type": "code",
   "execution_count": 71,
   "id": "3128d344",
   "metadata": {},
   "outputs": [],
   "source": [
    "class User:\n",
    "    \n",
    "    def __init__(self):\n",
    "        print(\"new user being created...\")"
   ]
  },
  {
   "cell_type": "code",
   "execution_count": 75,
   "id": "00574d45",
   "metadata": {},
   "outputs": [
    {
     "name": "stdout",
     "output_type": "stream",
     "text": [
      "new user being created...\n"
     ]
    }
   ],
   "source": [
    "user_3 = User()"
   ]
  },
  {
   "cell_type": "markdown",
   "id": "922862ac",
   "metadata": {},
   "source": [
    "Here we create a Car class"
   ]
  },
  {
   "cell_type": "code",
   "execution_count": 87,
   "id": "5c917150",
   "metadata": {},
   "outputs": [],
   "source": [
    "# 右边的两个seats是对应的，self.seats是create出来的attribute\n",
    "class Car:\n",
    "    def __init__(self,seats):\n",
    "        self.st = seats\n",
    "        \n",
    "    def race_mode(self):\n",
    "        self.st = 2\n",
    "        "
   ]
  },
  {
   "cell_type": "code",
   "execution_count": 95,
   "id": "27cd4301",
   "metadata": {},
   "outputs": [
    {
     "name": "stdout",
     "output_type": "stream",
     "text": [
      "5\n"
     ]
    }
   ],
   "source": [
    "my_car = Car(5)\n",
    "print(my_car.st)"
   ]
  },
  {
   "cell_type": "code",
   "execution_count": 96,
   "id": "0f701fe7",
   "metadata": {},
   "outputs": [
    {
     "name": "stdout",
     "output_type": "stream",
     "text": [
      "2\n"
     ]
    }
   ],
   "source": [
    "my_car.race_mode()\n",
    "print(my_car.st)"
   ]
  },
  {
   "cell_type": "markdown",
   "id": "c1416939",
   "metadata": {},
   "source": [
    "Now, let's back to User class"
   ]
  },
  {
   "cell_type": "code",
   "execution_count": 80,
   "id": "59732c6b",
   "metadata": {},
   "outputs": [],
   "source": [
    "class User:\n",
    "    def __init__(self,user_id,username):\n",
    "        self.id = user_id\n",
    "        self.username = username"
   ]
  },
  {
   "cell_type": "code",
   "execution_count": 82,
   "id": "90b4dc88",
   "metadata": {},
   "outputs": [
    {
     "name": "stdout",
     "output_type": "stream",
     "text": [
      "001\n"
     ]
    }
   ],
   "source": [
    "user_1 = User(\"001\",\"LBQ\")\n",
    "print(user_1.id)"
   ]
  },
  {
   "cell_type": "markdown",
   "id": "2ea5bac9",
   "metadata": {},
   "source": [
    "what if we want to create a attribute that automatically equal to something. eg. user.follower = 0"
   ]
  },
  {
   "cell_type": "code",
   "execution_count": 83,
   "id": "2cc605b3",
   "metadata": {},
   "outputs": [],
   "source": [
    "class User:\n",
    "    \n",
    "    def __init__(self,user_id,username):\n",
    "        self.id = user_id\n",
    "        self.username = username\n",
    "        self.follower= 0"
   ]
  },
  {
   "cell_type": "code",
   "execution_count": 84,
   "id": "b4312e7c",
   "metadata": {},
   "outputs": [],
   "source": [
    "user_2 = User(\"001\", \"LBQ\")"
   ]
  },
  {
   "cell_type": "code",
   "execution_count": 85,
   "id": "961aee15",
   "metadata": {},
   "outputs": [
    {
     "name": "stdout",
     "output_type": "stream",
     "text": [
      "0\n"
     ]
    }
   ],
   "source": [
    "print(user_2.follower)"
   ]
  },
  {
   "cell_type": "markdown",
   "id": "b00987bc",
   "metadata": {},
   "source": [
    "### we want to add method to the class. eg. add follow method to the User class."
   ]
  },
  {
   "cell_type": "code",
   "execution_count": 97,
   "id": "03bd239a",
   "metadata": {},
   "outputs": [],
   "source": [
    "class User:\n",
    "    \n",
    "    def __init__(self,user_id,username):\n",
    "        self.id = user_id\n",
    "        self.username = username\n",
    "        self.follower = 0\n",
    "        self.follwing = 0\n",
    "        \n",
    "    def follow(self, user):\n",
    "        user.follower += 1 # means the user you input plus 1 follower\n",
    "        self.follwing += 1 # means the object you call plus 1 following"
   ]
  },
  {
   "cell_type": "code",
   "execution_count": 98,
   "id": "84218163",
   "metadata": {},
   "outputs": [],
   "source": [
    "user_1 = User(\"001\",\"LBQ\")\n",
    "user_2 = User(\"002\",\"Boqian\")"
   ]
  },
  {
   "cell_type": "code",
   "execution_count": 99,
   "id": "da1566ce",
   "metadata": {},
   "outputs": [],
   "source": [
    "user_1.follow(user_2)"
   ]
  },
  {
   "cell_type": "code",
   "execution_count": 100,
   "id": "6f7a48f2",
   "metadata": {},
   "outputs": [
    {
     "name": "stdout",
     "output_type": "stream",
     "text": [
      "0\n",
      "1\n",
      "1\n",
      "0\n"
     ]
    }
   ],
   "source": [
    "print(user_1.follower)\n",
    "print(user_1.follwing)\n",
    "print(user_2.follower)\n",
    "print(user_2.follwing)"
   ]
  },
  {
   "cell_type": "code",
   "execution_count": 101,
   "id": "a0673703",
   "metadata": {},
   "outputs": [],
   "source": [
    "user_2.follow(user_1)"
   ]
  },
  {
   "cell_type": "code",
   "execution_count": 102,
   "id": "7d6121a7",
   "metadata": {},
   "outputs": [
    {
     "name": "stdout",
     "output_type": "stream",
     "text": [
      "1\n",
      "1\n",
      "1\n",
      "1\n"
     ]
    }
   ],
   "source": [
    "print(user_1.follower)\n",
    "print(user_1.follwing)\n",
    "print(user_2.follower)\n",
    "print(user_2.follwing)"
   ]
  },
  {
   "cell_type": "code",
   "execution_count": null,
   "id": "57314570",
   "metadata": {},
   "outputs": [],
   "source": []
  }
 ],
 "metadata": {
  "kernelspec": {
   "display_name": "Python 3 (ipykernel)",
   "language": "python",
   "name": "python3"
  },
  "language_info": {
   "codemirror_mode": {
    "name": "ipython",
    "version": 3
   },
   "file_extension": ".py",
   "mimetype": "text/x-python",
   "name": "python",
   "nbconvert_exporter": "python",
   "pygments_lexer": "ipython3",
   "version": "3.9.12"
  }
 },
 "nbformat": 4,
 "nbformat_minor": 5
}
